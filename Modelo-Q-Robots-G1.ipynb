{
 "cells": [
  {
   "cell_type": "markdown",
   "metadata": {},
   "source": [
    "# Q-Robots\n",
    "To model this problem, we will take the necessary penalty functions. Furthermore, in this modelling, we are going to try to introduce some additional variables that try to improve the performance of our modelling.\n"
   ]
  },
  {
   "cell_type": "markdown",
   "metadata": {},
   "source": [
    "We load the libraries that we are going to use."
   ]
  },
  {
   "cell_type": "code",
   "execution_count": 1,
   "metadata": {},
   "outputs": [],
   "source": [
    "import qubovert\n",
    "import math\n",
    "from neal import SimulatedAnnealingSampler\n",
    "\n",
    "import numpy as np\n",
    "import matplotlib.pyplot as plt"
   ]
  },
  {
   "cell_type": "markdown",
   "metadata": {},
   "source": [
    "The function that we introduce now will calculate what restrictions are not met when a solution is proposed."
   ]
  },
  {
   "cell_type": "code",
   "execution_count": 2,
   "metadata": {},
   "outputs": [],
   "source": [
    "#%config InlineBackend.figure_format = 'svg' # Makes the images look nice\n",
    "%config InlineBackend.figure_format = 'retina'\n",
    "#%config InlineBackend.figure_format = 'pdf'"
   ]
  },
  {
   "cell_type": "markdown",
   "metadata": {},
   "source": [
    "We select the values of $ N $ and $ Q $."
   ]
  },
  {
   "cell_type": "code",
   "execution_count": 3,
   "metadata": {},
   "outputs": [],
   "source": [
    "N = 6\n",
    "Q = 2"
   ]
  },
  {
   "cell_type": "markdown",
   "metadata": {},
   "source": [
    "We show the location of the nodes of the problem that we are going to solve"
   ]
  },
  {
   "cell_type": "code",
   "execution_count": 4,
   "metadata": {},
   "outputs": [
    {
     "name": "stdout",
     "output_type": "stream",
     "text": [
      "[[ 0.   0. ]\n",
      " [ 1.   4. ]\n",
      " [ 6.1  2.2]\n",
      " [-6.  -1.1]\n",
      " [-9.7 -1.2]\n",
      " [-8.   4.2]\n",
      " [-1.1  3.9]]\n"
     ]
    }
   ],
   "source": [
    "## We enter by hand the points we want to solve\n",
    "puntos = np.random.rand(N+1,2)\n",
    "\n",
    "#puntos[0,:] = 0,0\n",
    "\n",
    "#puntos[1,:] = 1,1\n",
    "#puntos[2,:] = 1.1,0.9\n",
    "\n",
    "#puntos[3,:] = -1,-1.1\n",
    "#puntos[4,:] = -0.7,-1.2\n",
    "\n",
    "#puntos[5,:] = -1,1.2\n",
    "#puntos[6,:] = -1.1,0.9\n",
    "\n",
    "\n",
    "puntos[0,:] = 0,0\n",
    "\n",
    "puntos[1,:] = 1,4\n",
    "puntos[2,:] = 6.1,2.2\n",
    "\n",
    "puntos[3,:] = -6,-1.1\n",
    "puntos[4,:] = -9.7,-1.2\n",
    "\n",
    "puntos[5,:] = -8,4.2\n",
    "puntos[6,:] = -1.1,3.9\n",
    "\n",
    "\n",
    "\n",
    "\n",
    "\n",
    "print(puntos)"
   ]
  },
  {
   "cell_type": "code",
   "execution_count": 5,
   "metadata": {},
   "outputs": [
    {
     "name": "stdout",
     "output_type": "stream",
     "text": [
      "[[ 0.          4.12310563  6.48459713  6.1         9.77394496  9.0354856\n",
      "   4.05215992  0.        ]\n",
      " [ 4.12310563  0.          5.40832691  8.66083137 11.89663818  9.00222195\n",
      "   2.1023796   4.12310563]\n",
      " [ 6.48459713  5.40832691  0.         12.54192968 16.16168308 14.2411376\n",
      "   7.3979727   6.48459713]\n",
      " [ 6.1         8.66083137 12.54192968  0.          3.7013511   5.66480362\n",
      "   7.00071425  6.1       ]\n",
      " [ 9.77394496 11.89663818 16.16168308  3.7013511   0.          5.66127194\n",
      "   9.99849989  9.77394496]\n",
      " [ 9.0354856   9.00222195 14.2411376   5.66480362  5.66127194  0.\n",
      "   6.90651866  9.0354856 ]\n",
      " [ 4.05215992  2.1023796   7.3979727   7.00071425  9.99849989  6.90651866\n",
      "   0.          4.05215992]\n",
      " [ 0.          4.12310563  6.48459713  6.1         9.77394496  9.0354856\n",
      "   4.05215992  0.        ]]\n"
     ]
    },
    {
     "data": {
      "image/png": "[encoded data removed]",
      "text/plain": [
       "<Figure size 432x288 with 1 Axes>"
      ]
     },
     "metadata": {
      "image/png": {
       "height": 248,
       "width": 370
      },
      "needs_background": "light"
     },
     "output_type": "display_data"
    }
   ],
   "source": [
    "def fnorm(v):  ## v must be a np.array\n",
    "    return np.sqrt(np.sum(v**2))\n",
    "#puntos = np.random.rand(N+1,2)\n",
    "plt.plot(puntos[:,0],puntos[:,1],'o')\n",
    "dist = np.zeros((N+2,N+2))\n",
    "for i in range(N):\n",
    "    for j in range(i+1,N+1):\n",
    "        aux  =  fnorm(puntos[i,:]-puntos[j,:])\n",
    "        dist[i,j],dist[j,i] = aux,aux\n",
    "\n",
    "for j in range(0,N+1):\n",
    "    i = N+1\n",
    "    aux  =  fnorm(puntos[0,:]-puntos[j,:])\n",
    "    dist[i,j],dist[j,i] = aux,aux\n",
    "print(dist)\n",
    "\n"
   ]
  },
  {
   "cell_type": "code",
   "execution_count": null,
   "metadata": {},
   "outputs": [],
   "source": []
  },
  {
   "cell_type": "markdown",
   "metadata": {},
   "source": [
    " ## We transform the distances into integer numbers."
   ]
  },
  {
   "cell_type": "code",
   "execution_count": 6,
   "metadata": {},
   "outputs": [
    {
     "name": "stdout",
     "output_type": "stream",
     "text": [
      "[[    0.  4123.  6484.  6100.  9773.  9035.  4052.     0.]\n",
      " [ 4123.     0.  5408.  8660. 11896.  9002.  2102.  4123.]\n",
      " [ 6484.  5408.     0. 12541. 16161. 14241.  7397.  6484.]\n",
      " [ 6100.  8660. 12541.     0.  3701.  5664.  7000.  6100.]\n",
      " [ 9773. 11896. 16161.  3701.     0.  5661.  9998.  9773.]\n",
      " [ 9035.  9002. 14241.  5664.  5661.     0.  6906.  9035.]\n",
      " [ 4052.  2102.  7397.  7000.  9998.  6906.     0.  4052.]\n",
      " [    0.  4123.  6484.  6100.  9773.  9035.  4052.     0.]]\n"
     ]
    }
   ],
   "source": [
    "dist = np.floor(dist*1000)\n",
    "print(dist)\n"
   ]
  },
  {
   "cell_type": "code",
   "execution_count": 7,
   "metadata": {},
   "outputs": [
    {
     "name": "stdout",
     "output_type": "stream",
     "text": [
      "100544.0\n",
      "17\n"
     ]
    }
   ],
   "source": [
    "dmax = 0\n",
    "for i in range(dist.shape[0]):\n",
    "    dmax = dmax + np.max(dist[i,:])\n",
    "bmax = int(np.log2(dmax)) + 1\n",
    "print(dmax)\n",
    "print(bmax)"
   ]
  },
  {
   "cell_type": "markdown",
   "metadata": {},
   "source": [
    "## We create the lists that will then serve us as indices in the sums"
   ]
  },
  {
   "cell_type": "code",
   "execution_count": 8,
   "metadata": {},
   "outputs": [
    {
     "name": "stdout",
     "output_type": "stream",
     "text": [
      "The number of qubits needed will be  820\n"
     ]
    }
   ],
   "source": [
    "R = 5\n",
    "lis_n = range(0,N+2)\n",
    "lis_q = range(1,Q+1)\n",
    "lis_r = range(R)\n",
    "lis_h = range(bmax+1)\n",
    "\n",
    "print(\"The number of qubits needed will be \",(N+2)**2*5*Q+(N+2)**2+Q*(bmax+1)+Q+(N+1)*Q+(N+2)**2)\n",
    "## print(\"El numero de coeficientes de la matriz sera \",math.comb((N+2)**2*5*Q,2))"
   ]
  },
  {
   "cell_type": "code",
   "execution_count": 9,
   "metadata": {},
   "outputs": [],
   "source": [
    "# 6*(N+2)**2*Q"
   ]
  },
  {
   "cell_type": "markdown",
   "metadata": {},
   "source": [
    "### We select the Lagrange Multipliers"
   ]
  },
  {
   "cell_type": "code",
   "execution_count": 10,
   "metadata": {},
   "outputs": [],
   "source": [
    "lag_gen = 9500\n",
    "\n",
    "lambda_1 = lag_gen\n",
    "lambda_2 = lag_gen\n",
    "lambda_2_ext = lag_gen\n",
    "lambda_3 = lag_gen\n",
    "lambda_3_ext = lag_gen\n",
    "lambda_4 = lag_gen\n",
    "lambda_5 = lag_gen\n",
    "lambda_6 = lag_gen\n",
    "lambda_7 = lag_gen\n",
    "\n",
    "lambda_8aux = lag_gen\n",
    "lambda_8 = lag_gen  ## Va ligada con la 4\n",
    "\n",
    "lambda_9 = lag_gen\n",
    "\n",
    "lambda_10_aux = lag_gen\n",
    "lambda_10 = lag_gen ## Va ligada con la 1\n",
    "\n",
    "lambda_11 = 1/1000\n",
    "\n",
    "lambda_obj = 1/2"
   ]
  },
  {
   "cell_type": "markdown",
   "metadata": {},
   "source": [
    "### We introduce the variables of our model."
   ]
  },
  {
   "cell_type": "code",
   "execution_count": 11,
   "metadata": {},
   "outputs": [],
   "source": [
    "# We create the variables of our model\n",
    "\n",
    "## Variables x_{i,j,r,q}\n",
    "coef = qubovert.QUBO()\n",
    "for i in lis_n:\n",
    "    for j in lis_n:\n",
    "        for r in lis_r:\n",
    "            for q in lis_q:\n",
    "                coef.create_var(f\"x_{i}_{j}_{r}_{q}\")\n",
    "\n",
    "## Variables a_{i,j}               \n",
    "for i in lis_n:\n",
    "    for j in lis_n:\n",
    "        coef.create_var(f\"a_{i}_{j}\")\n",
    "        \n",
    "\n",
    "## Variables b_{h,q}\n",
    "for h in lis_h:\n",
    "    for q in range(2,Q+1):\n",
    "        coef.create_var(f\"b_{h}_{q}\")\n",
    "        \n",
    "## Introducimos las variables auxiliares\n",
    "for j in range(1,N+2):\n",
    "    for q in lis_q:\n",
    "        coef.create_var(f\"aux1_{j}_{q}\")\n",
    "\n",
    "for i in lis_n:\n",
    "    for j in lis_n:\n",
    "        coef.create_var(f\"aux2_{i}_{j}\")\n",
    "        "
   ]
  },
  {
   "cell_type": "markdown",
   "metadata": {},
   "source": [
    "### We started to introduce our restrictions"
   ]
  },
  {
   "cell_type": "code",
   "execution_count": 12,
   "metadata": {},
   "outputs": [],
   "source": [
    "## Restriction 1\n",
    "for i in lis_n:\n",
    "    for j in lis_n:\n",
    "        for q in lis_q:\n",
    "            for r in lis_r:\n",
    "                coef[(f\"x_{i}_{j}_{r}_{q}\",)] += -2*(lambda_1)\n",
    "                \n",
    "                \n",
    "for i in lis_n:\n",
    "    for j in lis_n:\n",
    "        for q in lis_q:\n",
    "            for r1 in lis_r:\n",
    "                for r2 in lis_r:\n",
    "                    coef[(f\"x_{i}_{j}_{r1}_{q}\",f\"x_{i}_{j}_{r2}_{q}\")] +=  (lambda_1) \n",
    "\n",
    "                    \n",
    "## Restriction 2\n",
    "for q in lis_q:\n",
    "    for j in range(1,N+2):\n",
    "        coef[(f\"x_{0}_{j}_{1}_{q}\",)] = coef[(f\"x_{0}_{j}_{1}_{q}\",)] -2*lambda_2 \n",
    "                \n",
    "for q in lis_q:\n",
    "    for j1 in range(1,N+2):\n",
    "        for j2 in range(1,N+2):\n",
    "            coef[(f\"x_{0}_{j1}_{1}_{q}\",f\"x_{0}_{j2}_{1}_{q}\")] = coef[(f\"x_{0}_{j1}_{1}_{q}\",f\"x_{0}_{j2}_{1}_{q}\")]+lambda_2 \n",
    "\n",
    "    ## Restriction 2 extra\n",
    "for q in lis_q:\n",
    "    for i in range(0,N+2):\n",
    "        coef[(f\"x_{i}_{0}_{1}_{q}\",)] = coef[(f\"x_{i}_{0}_{1}_{q}\",)] + lambda_2_ext\n",
    "        \n",
    "\n",
    "## Restriction 3\n",
    "for q in lis_q:\n",
    "    for i in range(0,N+1):\n",
    "        coef[(f\"x_{i}_{N+1}_{1}_{q}\",)] = coef[(f\"x_{i}_{N+1}_{1}_{q}\",)] -2*lambda_3\n",
    "\n",
    "for q in lis_q:\n",
    "    for i1 in range(0,N+1):\n",
    "        for i2 in range(0,N+1):\n",
    "            coef[(f\"x_{i1}_{N+1}_{1}_{q}\",f\"x_{i2}_{N+1}_{1}_{q}\")] = coef[(f\"x_{i1}_{N+1}_{1}_{q}\",f\"x_{i2}_{N+1}_{1}_{q}\")]+lambda_3\n",
    "\n",
    "    ## Restriction 3 extra\n",
    "for q in lis_q:\n",
    "    for j in range(N+2):\n",
    "        coef[(f\"x_{N+1}_{j}_{1}_{q}\",)] = coef[(f\"x_{N+1}_{j}_{1}_{q}\",)] + lambda_3_ext  \n",
    "\n",
    "        \n",
    "## Restriction 4\n",
    "for i in range(1,N+1):\n",
    "    for q in lis_q:\n",
    "        for j in range(1,N+2):\n",
    "            coef[(f\"x_{i}_{j}_{1}_{q}\",)] +=  -2*(lambda_4 )\n",
    "\n",
    "for i in range(1,N+1):\n",
    "    for q1 in lis_q:\n",
    "        for j1 in range(1,N+2):\n",
    "            for q2 in lis_q:\n",
    "                for j2 in range(1,N+2):\n",
    "                    coef[(f\"x_{i}_{j1}_{1}_{q1}\",f\"x_{i}_{j2}_{1}_{q2}\")] += (lambda_4)\n",
    "            \n",
    "\n",
    "\n",
    "## Restriction 5\n",
    "for j in range(1,N+1):\n",
    "    for q in lis_q:\n",
    "        for i in range(0,N+1):\n",
    "            coef[(f\"x_{i}_{j}_{1}_{q}\",)] +=  -2*lambda_5\n",
    "\n",
    "for j in range(1,N+1):\n",
    "    for q1 in lis_q:\n",
    "        for i1 in range(N+1):\n",
    "            for q2 in lis_q:\n",
    "                for i2 in range(N+1):\n",
    "                    coef[(f\"x_{i1}_{j}_{1}_{q1}\",f\"x_{i2}_{j}_{1}_{q2}\")] += lambda_5 \n",
    "            \n",
    "\n",
    "## Restriction 6\n",
    "for i in lis_n:\n",
    "    for q in lis_q:\n",
    "        coef[(f\"x_{i}_{i}_{1}_{q}\",)] = coef[(f\"x_{i}_{i}_{1}_{q}\",)] + lambda_6 \n",
    "\n",
    "\n",
    "## Restriction 7\n",
    "## We create a list in the special index\n",
    "lis_r_aux  = [0,1,3]\n",
    "for i in range(1,N+1):\n",
    "    for j in range(1,N+1):\n",
    "        for q in lis_q:\n",
    "            for r in lis_r_aux:\n",
    "                coef[(f\"x_{i}_{j}_{r}_{q}\",f\"a_{i}_{j}\")] +=  -2*lambda_7*Q \n",
    "    \n",
    "for i in range(1,N+1):\n",
    "    for j in range(1,N+1):\n",
    "        for q1 in lis_q:\n",
    "            for q2 in lis_q:\n",
    "                for r1 in lis_r_aux:\n",
    "                    for r2 in lis_r_aux:\n",
    "                        coef[(f\"x_{i}_{j}_{r1}_{q1}\",f\"x_{i}_{j}_{r2}_{q2}\")] +=  lambda_7 \n",
    "\n",
    "for i in range(1,N+1):\n",
    "    for j in range(1,N+1):\n",
    "        coef[(f\"a_{i}_{j}\",f\"a_{i}_{j}\")] +=  lambda_7*Q**2\n",
    "\n",
    "\n",
    "\n",
    "## Pre Restriction 8 auxiliar\n",
    "for j in range(1,N+2):\n",
    "    for q in lis_q:\n",
    "        for k1 in range(1,N+2):\n",
    "            for k2 in range(1,N+2):\n",
    "                coef[(f\"x_{j}_{k1}_{1}_{q}\",f\"x_{j}_{k2}_{1}_{q}\")] += lambda_8aux\n",
    "        for k in range(1,N+2):\n",
    "            coef[(f\"x_{j}_{k}_{1}_{q}\",f\"aux1_{j}_{q}\")] += -2*lambda_8aux\n",
    "        coef[(f\"aux1_{j}_{q}\",)] += lambda_8aux\n",
    "                \n",
    "                \n",
    "\n",
    "## Restriction 8\n",
    "for i in range(N+1):\n",
    "    for j in range(1,N+1):\n",
    "        for q in lis_q:\n",
    "            coef[(f\"x_{i}_{j}_{1}_{q}\",)] +=  lambda_8\n",
    "            coef[(f\"x_{i}_{j}_{1}_{q}\",f\"aux1_{j}_{q}\")] +=  -lambda_8 \n",
    "\n",
    "\n",
    "\n",
    "## Restriction 9\n",
    "for i in range(1,N+1):\n",
    "    for j in range(1,N+1):\n",
    "        for q in lis_q:\n",
    "            for r1 in lis_r_aux:\n",
    "                for r2 in lis_r_aux:\n",
    "                    coef[(f\"x_{i}_{j}_{r1}_{q}\",f\"x_{j}_{i}_{r2}_{q}\")] +=  lambda_9 \n",
    "                    \n",
    "\n",
    "## Restriction 10 aux\n",
    "for i in lis_n:\n",
    "    for j in lis_n:\n",
    "        for r1 in lis_r_aux:\n",
    "            for r2 in lis_r_aux:\n",
    "                coef[(f\"x_{i}_{j}_{r1}_{1}\",f\"x_{i}_{j}_{r2}_{1}\")] +=  lambda_10_aux \n",
    "        for r in lis_r_aux:\n",
    "            coef[(f\"x_{i}_{j}_{r}_{1}\",f\"aux2_{i}_{j}\")] += -2*lambda_10_aux\n",
    "        coef[(f\"aux2_{i}_{j}\",)] += lambda_10_aux\n",
    "                \n",
    "\n",
    "\n",
    "## Restriction 10\n",
    "for i in range(1,N+1):\n",
    "    for j in range(1,N+1):\n",
    "        for k in range(1,N+1):\n",
    "            if i!=j and j!=k and i!=k:\n",
    "                coef[(f\"aux2_{i}_{j}\",f\"aux2_{j}_{k}\")] += lambda_10\n",
    "                coef[(f\"aux2_{i}_{j}\",f\"aux2_{i}_{k}\")] -= lambda_10\n",
    "                coef[(f\"aux2_{j}_{k}\",f\"aux2_{i}_{k}\")] -= lambda_10\n",
    "                coef[(f\"aux2_{i}_{k}\",f\"aux2_{i}_{k}\")] +=  lambda_10\n",
    "\n",
    "\n",
    "## Restriction to minimizing time\n",
    "for q in range(2,Q+1):\n",
    "    ## a^2\n",
    "    for i1 in lis_n:\n",
    "        for j1 in lis_n:\n",
    "            for i2 in lis_n:\n",
    "                for j2 in lis_n:\n",
    "                    coef[(f\"x_{i1}_{j1}_{1}_{q}\",f\"x_{i2}_{j2}_{1}_{q}\")] += lambda_11*dist[i1,j1]*dist[i2,j2]\n",
    "    ## ab\n",
    "    for i in lis_n:\n",
    "        for j in lis_n:\n",
    "            for h in lis_h:\n",
    "                coef[(f\"x_{i}_{j}_{1}_{q}\",f\"b_{h}_{q}\")] += lambda_11*2*2**h*dist[i,j]\n",
    "    \n",
    "    ## ac\n",
    "    for i1 in lis_n:\n",
    "        for j1 in lis_n:\n",
    "            for i2 in lis_n:\n",
    "                for j2 in lis_n:\n",
    "                    coef[(f\"x_{i1}_{j1}_{1}_{1}\",f\"x_{i2}_{j2}_{1}_{q}\")] += -2*lambda_11*dist[i1,j1]*dist[i2,j2]\n",
    "    \n",
    "    ## b^2\n",
    "    for h1 in lis_h:\n",
    "        for h2 in lis_h:\n",
    "            coef[(f\"b_{h1}_{q}\",f\"b_{h2}_{q}\")] += lambda_11*2**(h1+h2)\n",
    "    \n",
    "    ## bc\n",
    "    for i in lis_n:\n",
    "        for j in lis_n:\n",
    "            for h in lis_h:\n",
    "                coef[(f\"x_{i}_{j}_{1}_{1}\",f\"b_{h}_{q}\")] += -lambda_11*2*2**h*dist[i,j]\n",
    "    \n",
    "    ## c^2\n",
    "    for i1 in lis_n:\n",
    "        for j1 in lis_n:\n",
    "            for i2 in lis_n:\n",
    "                for j2 in lis_n:\n",
    "                    coef[(f\"x_{i1}_{j1}_{1}_{1}\",f\"x_{i2}_{j2}_{1}_{1}\")] += lambda_11*dist[i1,j1]*dist[i2,j2]\n",
    "    \n",
    "    \n",
    "## Objective function\n",
    "for i in lis_n:\n",
    "    for j in lis_n:\n",
    "        coef[(f\"x_{i}_{j}_{1}_{1}\",)] += lambda_obj * dist[i,j]\n",
    "\n",
    "                "
   ]
  },
  {
   "cell_type": "code",
   "execution_count": null,
   "metadata": {},
   "outputs": [],
   "source": []
  },
  {
   "cell_type": "code",
   "execution_count": 13,
   "metadata": {},
   "outputs": [],
   "source": [
    "dwave_dic = {}\n",
    "for i in coef:\n",
    "    if len(i) == 1:\n",
    "        dwave_dic[(i[0],i[0])] = coef[i]\n",
    "    else:\n",
    "        dwave_dic[i] = coef[i]\n",
    "        \n",
    "#dwave_dic"
   ]
  },
  {
   "cell_type": "markdown",
   "metadata": {},
   "source": [
    "### We carry out the simulation"
   ]
  },
  {
   "cell_type": "code",
   "execution_count": 14,
   "metadata": {},
   "outputs": [
    {
     "name": "stdout",
     "output_type": "stream",
     "text": [
      "[[0. 0. 0. 1. 0. 0. 0. 0.]\n",
      " [0. 0. 0. 0. 0. 0. 0. 0.]\n",
      " [0. 0. 0. 0. 0. 0. 0. 0.]\n",
      " [0. 0. 0. 0. 1. 0. 0. 0.]\n",
      " [0. 0. 0. 0. 0. 1. 0. 0.]\n",
      " [0. 0. 0. 0. 0. 0. 0. 1.]\n",
      " [0. 0. 0. 0. 0. 0. 0. 0.]\n",
      " [0. 0. 0. 0. 0. 0. 0. 0.]]\n"
     ]
    },
    {
     "data": {
      "image/png": "[encoded data removed]",
      "text/plain": [
       "<Figure size 432x288 with 1 Axes>"
      ]
     },
     "metadata": {
      "image/png": {
       "height": 248,
       "width": 370
      },
      "needs_background": "light"
     },
     "output_type": "display_data"
    },
    {
     "name": "stdout",
     "output_type": "stream",
     "text": [
      "The robot  1  travels  24497.0\n",
      "[[0. 0. 0. 0. 0. 0. 1. 0.]\n",
      " [0. 0. 1. 0. 0. 0. 0. 0.]\n",
      " [0. 0. 0. 0. 0. 0. 0. 1.]\n",
      " [0. 0. 0. 0. 0. 0. 0. 0.]\n",
      " [0. 0. 0. 0. 0. 0. 0. 0.]\n",
      " [0. 0. 0. 0. 0. 0. 0. 0.]\n",
      " [0. 1. 0. 0. 0. 0. 0. 0.]\n",
      " [0. 0. 0. 0. 0. 0. 0. 0.]]\n"
     ]
    },
    {
     "data": {
      "image/png": "[encoded data removed]",
      "text/plain": [
       "<Figure size 432x288 with 1 Axes>"
      ]
     },
     "metadata": {
      "image/png": {
       "height": 248,
       "width": 370
      },
      "needs_background": "light"
     },
     "output_type": "display_data"
    },
    {
     "name": "stdout",
     "output_type": "stream",
     "text": [
      "The robot  2  travels  18046.0\n"
     ]
    }
   ],
   "source": [
    "from neal import SimulatedAnnealingSampler\n",
    "#from dwave.system import DWaveSampler, EmbeddingComposite\n",
    "\n",
    "\n",
    "n_samples = 10000 # número de veces que ejecutamos el sistema\n",
    "\n",
    "\n",
    "sampler = SimulatedAnnealingSampler()\n",
    "#sampler = EmbeddingComposite(DWaveSampler())\n",
    "\n",
    "#sampleset = sampler.sample_qubo(dwave_dic, num_reads = n_samples,auto_scale=True,postprocess = \"optimization\")\n",
    "sampleset = sampler.sample_qubo(dwave_dic, num_reads = n_samples,auto_scale=True)\n",
    "\n",
    "solution = sampleset.first.sample\n",
    "\n",
    "## Mejor energia\n",
    "#print(sampleset.first.energy)\n",
    "## Matriz solucion\n",
    "for q in lis_q:\n",
    "    mat_sol = np.zeros((N+2,N+2))\n",
    "    for i in  range(N+2):\n",
    "        for j in range(N+2):\n",
    "            if solution[f\"x_{i}_{j}_{1}_{q}\"] == 1:\n",
    "                mat_sol[i,j] = 1\n",
    "    print(mat_sol)\n",
    "    \n",
    "    ## Pintamos el camino propuesto\n",
    "    plt.plot(puntos[:,0],puntos[:,1],'o')\n",
    "    vaux = np.array(list(range(N+2)))\n",
    "    suma_ruta = 0\n",
    "    for i in range(N+1):\n",
    "        sig_aux = mat_sol[i,:]==1\n",
    "        if np.sum(sig_aux) > 0:\n",
    "            sig = (int(vaux[sig_aux][0]))%(N+1)\n",
    "            plt.plot(puntos[(i,sig),0],puntos[(i,sig),1])\n",
    "            suma_ruta += np.floor(1000*fnorm(puntos[i,:]-puntos[sig,:]))\n",
    "    plt.show()\n",
    "    print(\"The robot \",q,\" travels \",suma_ruta)\n"
   ]
  },
  {
   "cell_type": "markdown",
   "metadata": {},
   "source": [
    "We try to show all the graphics in it."
   ]
  },
  {
   "cell_type": "markdown",
   "metadata": {},
   "source": [
    "### We show the paths of the robots"
   ]
  },
  {
   "cell_type": "code",
   "execution_count": 15,
   "metadata": {},
   "outputs": [
    {
     "name": "stdout",
     "output_type": "stream",
     "text": [
      "\n",
      "range(1, 3)\n",
      "The robot  1  travels  24497.0\n",
      "The robot  2  travels  18046.0\n",
      "\n",
      "[[ 0.   0. ]\n",
      " [ 1.   4. ]\n",
      " [ 6.1  2.2]\n",
      " [-6.  -1.1]\n",
      " [-9.7 -1.2]\n",
      " [-8.   4.2]\n",
      " [-1.1  3.9]]\n"
     ]
    },
    {
     "data": {
      "image/png": "[encoded data removed]",
      "text/plain": [
       "<Figure size 432x288 with 1 Axes>"
      ]
     },
     "metadata": {
      "image/png": {
       "height": 248,
       "width": 370
      },
      "needs_background": "light"
     },
     "output_type": "display_data"
    }
   ],
   "source": [
    "## Mejor energia\n",
    "#print(sampleset.first.energy)\n",
    "## Matriz solucion\n",
    "print()\n",
    "print(lis_q)\n",
    "colores = [\"b\",\"g\",\"r\"]\n",
    "sol = np.zeros((N+2,N+2))\n",
    "sol2 = np.zeros((N+2,N+2))\n",
    "for q in lis_q:\n",
    "    mat_sol = np.zeros((N+2,N+2))\n",
    "    for i in  range(N+2):\n",
    "        for j in range(N+2):\n",
    "            if solution[f\"x_{i}_{j}_{1}_{q}\"] == 1:\n",
    "                mat_sol[i%len(puntos),j%len(puntos)] = 1\n",
    "     \n",
    "    sol += mat_sol\n",
    "    sol2 += mat_sol * (q-1)\n",
    "    #print(mat_sol)\n",
    "    \n",
    "    ## Let us print the path\n",
    "    plt.plot(puntos[:,0],puntos[:,1],'o')\n",
    "    vaux = np.array(list(range(N+2)))\n",
    "    suma_ruta = 0\n",
    "    for i in range(N+1):\n",
    "        sig_aux = mat_sol[i,:]==1\n",
    "        if np.sum(sig_aux) > 0:\n",
    "            sig = (int(vaux[sig_aux][0]))%(N+1)\n",
    "            plt.plot(puntos[(i,sig),0],puntos[(i,sig),1],colores[q-1])\n",
    "            suma_ruta += np.floor(1000*fnorm(puntos[i,:]-puntos[sig,:]))\n",
    "    #plt.show()\n",
    "    print(\"The robot \",q,\" travels \",suma_ruta)\n",
    "print()\n",
    "print(puntos)"
   ]
  },
  {
   "cell_type": "code",
   "execution_count": 16,
   "metadata": {},
   "outputs": [
    {
     "data": {
      "text/plain": [
       "array([[0., 0., 0., 0., 0., 0., 1., 0.],\n",
       "       [0., 0., 1., 0., 0., 0., 0., 0.],\n",
       "       [1., 0., 0., 0., 0., 0., 0., 0.],\n",
       "       [0., 0., 0., 0., 0., 0., 0., 0.],\n",
       "       [0., 0., 0., 0., 0., 0., 0., 0.],\n",
       "       [0., 0., 0., 0., 0., 0., 0., 0.],\n",
       "       [0., 1., 0., 0., 0., 0., 0., 0.],\n",
       "       [0., 0., 0., 0., 0., 0., 0., 0.]])"
      ]
     },
     "execution_count": 16,
     "metadata": {},
     "output_type": "execute_result"
    }
   ],
   "source": [
    "sol2"
   ]
  },
  {
   "cell_type": "code",
   "execution_count": 17,
   "metadata": {},
   "outputs": [
    {
     "data": {
      "image/png": "[encoded data removed]",
      "text/plain": [
       "<Figure size 432x288 with 1 Axes>"
      ]
     },
     "metadata": {
      "image/png": {
       "height": 231,
       "width": 349
      }
     },
     "output_type": "display_data"
    }
   ],
   "source": [
    "import numpy as np\n",
    "import networkx as nx\n",
    "\n",
    "colores = [\"r\",\"grey\",\"y\"]\n",
    "\n",
    "G = nx.DiGraph()\n",
    "rows, cols = np.where(sol == 1)\n",
    "edges = list(zip(rows.tolist(), cols.tolist()))\n",
    "edges2 = [(x[0], x[1]%len(puntos)) for x in edges]\n",
    "\n",
    "#pos2 = {int(i): puntos[i] for i in range(len(puntos))} #position of given points...\n",
    "\n",
    "G.add_edges_from(edges2)\n",
    "pos2 = nx.spring_layout(G) #PARFAIT\n",
    "nx.draw_networkx_labels(G, pos2)\n",
    "values = [colores[int(sol2[x[0], x[1]])] for x in G.edges]\n",
    "\n",
    "nx.draw_networkx_edges(G, pos2, edge_color = values)\n",
    "\n",
    "node_colors = [\"lightsteelblue\" for _ in range(len(G.nodes))]\n",
    "node_colors[0] = \"palegreen\"\n",
    "\n",
    "nx.draw(G, pos2, edge_color=values, node_color = node_colors)\n",
    "plt.show()"
   ]
  },
  {
   "cell_type": "code",
   "execution_count": 18,
   "metadata": {},
   "outputs": [
    {
     "data": {
      "text/plain": [
       "[(0, 3), (0, 6), (1, 2), (2, 0), (3, 4), (4, 5), (5, 0), (6, 1)]"
      ]
     },
     "execution_count": 18,
     "metadata": {},
     "output_type": "execute_result"
    }
   ],
   "source": [
    "edges2"
   ]
  },
  {
   "cell_type": "code",
   "execution_count": null,
   "metadata": {},
   "outputs": [],
   "source": []
  },
  {
   "cell_type": "markdown",
   "metadata": {},
   "source": [
    "# Verification of restrictions.\n",
    "The following code checks which constraints are satisfied and which are not."
   ]
  },
  {
   "cell_type": "code",
   "execution_count": 19,
   "metadata": {},
   "outputs": [
    {
     "name": "stdout",
     "output_type": "stream",
     "text": [
      "Constraint 1 is providing  -1216000  and should be  -1216000\n",
      "Constraint 2 is providing  -19000  and should be  -19000\n",
      "Constraint 2 is providing  0\n",
      "Constraint 3 is providing -19000 and should be  -19000\n",
      "Constraint extra 3 is providing  0\n",
      "Constraint 4 is providing  -57000  and should be  -57000\n",
      "Constraint 5 is providing  -57000  and should be  -57000\n",
      "The value of the Constraint 6 is:  0\n",
      "The value of the Constraint 7 is  0\n",
      "The ancilla constraint 8 is  0\n",
      "The value of the Constraint 8 is  0\n",
      "The value of the constraint 9 is: 0\n",
      "The value of the constraint 10 is:  0\n",
      "Constraint 11 is providingo a best_energy  0.1690000001108274  y deberia ser  0\n",
      "the objective function is:  12248.5\n",
      "Our energy is:  -1367999.8309999998\n",
      "The sampleset energy is:  -1355751.3309999108\n"
     ]
    }
   ],
   "source": [
    "best_energy = 0\n",
    "\n",
    "## Restriction 1\n",
    "val_res1 = 0\n",
    "for i in lis_n:\n",
    "    for j in lis_n:\n",
    "        for q in lis_q:\n",
    "            for r in lis_r:\n",
    "                val_res1 += -2*solution[f\"x_{i}_{j}_{r}_{q}\"] \n",
    "                \n",
    "            for r1 in lis_r:\n",
    "                for r2 in lis_r:\n",
    "                    val_res1 += solution[f\"x_{i}_{j}_{r1}_{q}\"]*solution[f\"x_{i}_{j}_{r2}_{q}\"]\n",
    "print(\"Constraint 1 is providing \",val_res1*lambda_1, \" and should be \",-lambda_1*(N+2)**2*Q)                  \n",
    "best_energy += val_res1*lambda_1\n",
    "\n",
    "\n",
    "\n",
    "## Restriction 2\n",
    "val_res2 = 0\n",
    "for q in lis_q:\n",
    "    for j in range(1,N+2):\n",
    "        #coef[(f\"x_{0}_{j}_{1}_{q}\",)] = coef[(f\"x_{0}_{j}_{1}_{q}\",)] -2*lambda_2 \n",
    "        val_res2 += -2*solution[f\"x_{0}_{j}_{1}_{q}\"]*solution[f\"x_{0}_{j}_{1}_{q}\"]\n",
    "                \n",
    "    for j1 in range(1,N+2):\n",
    "        for j2 in range(1,N+2):\n",
    "            val_res2 += solution[f\"x_{0}_{j1}_{1}_{q}\"]*solution[f\"x_{0}_{j2}_{1}_{q}\"]\n",
    "print(\"Constraint 2 is providing \",lambda_2*val_res2, \" and should be \",-lambda_2*Q)\n",
    "best_energy += val_res2*lambda_2\n",
    "            \n",
    "    ## Restriction 2 extra\n",
    "val_res2_ext = 0\n",
    "for q in lis_q:\n",
    "    for i in range(0,N+2):\n",
    "        val_res2_ext += solution[f\"x_{i}_{0}_{1}_{q}\"]\n",
    "print(\"Constraint 2 is providing \",lambda_2_ext*val_res2_ext)\n",
    "best_energy += val_res2_ext*lambda_2_ext\n",
    "        \n",
    "    \n",
    "## Restriction 3\n",
    "val_res3 = 0\n",
    "for q in lis_q:\n",
    "    for i in range(0,N+1):\n",
    "        val_res3 += -2*solution[f\"x_{i}_{N+1}_{1}_{q}\"]\n",
    "\n",
    "    for i1 in range(0,N+1):\n",
    "        for i2 in range(0,N+1):\n",
    "            #coef[(f\"x_{i1}_{N+1}_{1}_{q}\",f\"x_{i2}_{N+1}_{1}_{q}\")] = coef[(f\"x_{i1}_{N+1}_{1}_{q}\",f\"x_{i2}_{N+1}_{1}_{q}\")]+lambda_3\n",
    "            val_res3 += solution[f\"x_{i1}_{N+1}_{1}_{q}\"]*solution[f\"x_{i2}_{N+1}_{1}_{q}\"]\n",
    "print(\"Constraint 3 is providing\",lambda_3*val_res3, \"and should be \",-lambda_3*Q)  \n",
    "best_energy += val_res3*lambda_3\n",
    "            \n",
    "    ## Restriction 3 extra\n",
    "val_res3_ext = 0\n",
    "for q in lis_q:\n",
    "    for j in range(N+2):\n",
    "        #coef[(f\"x_{N+1}_{j}_{1}_{q}\",)] = coef[(f\"x_{N+1}_{j}_{1}_{q}\",)] + lambda_3_ext  \n",
    "        val_res3_ext += solution[f\"x_{N+1}_{j}_{1}_{q}\"]\n",
    "        \n",
    "print(\"Constraint extra 3 is providing \",val_res3_ext*lambda_3_ext)\n",
    "best_energy += val_res3_ext*lambda_3_ext\n",
    "        \n",
    "\n",
    "## Restriction 4\n",
    "val_res4 = 0\n",
    "for i in range(1,N+1):\n",
    "    for q in lis_q:\n",
    "        for j in range(1,N+2):\n",
    "            #coef[(f\"x_{i}_{j}_{1}_{q}\",)] +=  -2*(lambda_4 )\n",
    "            val_res4 += -2*solution[f\"x_{i}_{j}_{1}_{q}\"]\n",
    "\n",
    "    for q1 in lis_q:\n",
    "        for j1 in range(1,N+2):\n",
    "            for q2 in lis_q:\n",
    "                for j2 in range(1,N+2):\n",
    "                    val_res4 += solution[f\"x_{i}_{j1}_{1}_{q1}\"]*solution[f\"x_{i}_{j2}_{1}_{q2}\"]\n",
    "\n",
    "print(\"Constraint 4 is providing \",val_res4*lambda_4, \" and should be \",-lambda_4*N)\n",
    "best_energy += val_res4*lambda_4\n",
    "                    \n",
    "\n",
    "## Restriction 5\n",
    "val_res5 = 0\n",
    "for j in range(1,N+1):\n",
    "    for q in lis_q:\n",
    "        for i in range(0,N+1):\n",
    "            #coef[(f\"x_{i}_{j}_{1}_{q}\",)] +=  -2*lambda_5\n",
    "            val_res5 += -2*solution[f\"x_{i}_{j}_{1}_{q}\"]\n",
    "\n",
    "    for q1 in lis_q:\n",
    "        for i1 in range(N+1):\n",
    "            for q2 in lis_q:\n",
    "                for i2 in range(N+1):\n",
    "                    #coef[(f\"x_{i1}_{j}_{1}_{q1}\",f\"x_{i2}_{j}_{1}_{q2}\")] += lambda_5 \n",
    "                    val_res5 += solution[f\"x_{i1}_{j}_{1}_{q1}\"]*solution[f\"x_{i2}_{j}_{1}_{q2}\"]\n",
    "print(\"Constraint 5 is providing \", lambda_5*val_res5, \" and should be \",-lambda_5*N)\n",
    "best_energy += val_res5*lambda_5\n",
    "  \n",
    "    \n",
    "    \n",
    "                \n",
    "## Restriction 6\n",
    "val_res6 = 0\n",
    "for i in lis_n:\n",
    "    for q in lis_q:\n",
    "        #coef[(f\"x_{i}_{i}_{1}_{q}\",)] = coef[(f\"x_{i}_{i}_{1}_{q}\",)] + lambda_6 \n",
    "        val_res6 += solution[f\"x_{i}_{i}_{1}_{q}\"]\n",
    "print(\"The value of the Constraint 6 is: \",val_res6*lambda_6)\n",
    "best_energy += val_res6*lambda_6\n",
    "        \n",
    "## Restriction 7\n",
    "## We create a list in the special index\n",
    "val_res7 = 0\n",
    "lis_r_aux  = [0,1,3]\n",
    "for i in range(1,N+1):\n",
    "    for j in range(1,N+1):\n",
    "        for q in lis_q:\n",
    "            for r in lis_r_aux:\n",
    "                #coef[(f\"x_{i}_{j}_{r}_{q}\",f\"a_{i}_{j}\")] +=  -2*lambda_7*Q \n",
    "                val_res7  += -2*Q*solution[f\"x_{i}_{j}_{r}_{q}\"]*solution[f\"a_{i}_{j}\"]\n",
    "    \n",
    "        for q1 in lis_q:\n",
    "            for q2 in lis_q:\n",
    "                for r1 in lis_r_aux:\n",
    "                    for r2 in lis_r_aux:\n",
    "                        #coef[(f\"x_{i}_{j}_{r1}_{q}\",f\"x_{i}_{j}_{r2}_{q}\")] +=  lambda_7 \n",
    "                        val_res7 += solution[f\"x_{i}_{j}_{r1}_{q1}\"]*solution[f\"x_{i}_{j}_{r2}_{q2}\"]\n",
    "\n",
    "        #coef[(f\"a_{i}_{j}\",f\"a_{i}_{j}\")] +=  lambda_7*Q**2\n",
    "        val_res7 += solution[f\"a_{i}_{j}\"]*Q**2\n",
    "print(\"The value of the Constraint 7 is \",val_res7*lambda_7)\n",
    "best_energy += val_res7*lambda_7\n",
    "        \n",
    "\n",
    "## Pre Restriction 8 auxiliar\n",
    "val_res8aux = 0\n",
    "for j in range(1,N+2):\n",
    "    for q in lis_q:\n",
    "        for k1 in range(1,N+2):\n",
    "            for k2 in range(1,N+2):\n",
    "                val_res8aux += solution[f\"x_{j}_{k1}_{1}_{q}\"]*solution[f\"x_{j}_{k2}_{1}_{q}\"]*lambda_8aux\n",
    "        for k in range(1,N+2):\n",
    "            val_res8aux += solution[f\"x_{j}_{k}_{1}_{q}\"]*solution[f\"aux1_{j}_{q}\"] * (-2*lambda_8aux)\n",
    "        val_res8aux += solution[f\"aux1_{j}_{q}\"]*lambda_8aux\n",
    "print(\"The ancilla constraint 8 is \",val_res8aux)\n",
    "best_energy += val_res8aux\n",
    "                \n",
    "                \n",
    "\n",
    "## Restriction 8\n",
    "val_res8 = 0\n",
    "for i in range(N+1):\n",
    "    for j in range(1,N+1):\n",
    "        for q in lis_q:\n",
    "            val_res8 += solution[f\"x_{i}_{j}_{1}_{q}\"]*lambda_8\n",
    "            val_res8 += solution[f\"x_{i}_{j}_{1}_{q}\"]*solution[f\"aux1_{j}_{q}\"]*(-lambda_8) \n",
    "print(\"The value of the Constraint 8 is \",val_res8)\n",
    "best_energy += val_res8\n",
    "\n",
    "\n",
    "## Restriction 9\n",
    "val_res9 = 0\n",
    "for i in range(1,N+1):\n",
    "    for j in range(1,N+1):\n",
    "        for q in lis_q:\n",
    "            for r1 in lis_r_aux:\n",
    "                for r2 in lis_r_aux: \n",
    "                    val_res9 += solution[f\"x_{i}_{j}_{r1}_{q}\"]*solution[f\"x_{j}_{i}_{r2}_{q}\"]\n",
    "   \n",
    "print(\"The value of the constraint 9 is:\",val_res9*lambda_9)\n",
    "best_energy += val_res9*lambda_9\n",
    "\n",
    "\n",
    "## Restriction 10\n",
    "## Vamos a necesitar introducir 4 multi-bucles\n",
    "\n",
    "\n",
    "## Restriction 10 aux\n",
    "val_res10aux = 0\n",
    "for i in lis_n:\n",
    "    for j in lis_n:\n",
    "        for r1 in lis_r_aux:\n",
    "            for r2 in lis_r_aux:\n",
    "                val_res10aux += solution[f\"x_{i}_{j}_{r1}_{1}\"]*solution[f\"x_{i}_{j}_{r2}_{1}\"]* lambda_10_aux \n",
    "        for r in lis_r_aux:\n",
    "            val_res10aux += solution[f\"x_{i}_{j}_{r}_{1}\"]*solution[f\"aux2_{i}_{j}\"] * (-2*lambda_10_aux)\n",
    "        val_res10aux += solution[f\"aux2_{i}_{j}\"] * lambda_10_aux\n",
    "                \n",
    "\n",
    "\n",
    "## Restriction 10\n",
    "val_res10 = 0\n",
    "for i in range(1,N+1):\n",
    "    for j in range(1,N+1):\n",
    "        for k in range(1,N+1):\n",
    "            if i!=j and j!=k and i!=k:\n",
    "                val_res10 += solution[f\"aux2_{i}_{j}\"]*solution[f\"aux2_{j}_{k}\"]*lambda_10\n",
    "                val_res10 += -solution[f\"aux2_{i}_{j}\"]*solution[f\"aux2_{i}_{k}\"] * lambda_10\n",
    "                val_res10 += -solution[f\"aux2_{j}_{k}\"]*solution[f\"aux2_{i}_{k}\"] * lambda_10\n",
    "                val_res10 += solution[f\"aux2_{i}_{k}\"]*solution[f\"aux2_{i}_{k}\"] *  lambda_10\n",
    "\n",
    "                       \n",
    "\n",
    "print(\"The value of the constraint 10 is: \",val_res10*lambda_10)\n",
    "best_energy += val_res10*lambda_10\n",
    "\n",
    "\n",
    "## Restriction to minimize time\n",
    "val_res11 = 0\n",
    "for q in range(2,Q+1):\n",
    "    ## a^2\n",
    "    for i1 in lis_n:\n",
    "        for j1 in lis_n:\n",
    "            for i2 in lis_n:\n",
    "                for j2 in lis_n:\n",
    "                    val_res11 += solution[f\"x_{i1}_{j1}_{1}_{q}\"]*solution[f\"x_{i2}_{j2}_{1}_{q}\"]* lambda_11*dist[i1,j1]*dist[i2,j2]\n",
    "                     \n",
    "    ## ab\n",
    "    for i in lis_n:\n",
    "        for j in lis_n:\n",
    "            for h in lis_h:\n",
    "                val_res11 += solution[f\"x_{i}_{j}_{1}_{q}\"]*solution[f\"b_{h}_{q}\"] * lambda_11*2*2**h*dist[i,j]\n",
    "    \n",
    "    ## ac\n",
    "    for i1 in lis_n:\n",
    "        for j1 in lis_n:\n",
    "            for i2 in lis_n:\n",
    "                for j2 in lis_n:\n",
    "                    val_res11 += solution[f\"x_{i1}_{j1}_{1}_{1}\"]*solution[f\"x_{i2}_{j2}_{1}_{q}\"] *(-2)*lambda_11*dist[i1,j1]*dist[i2,j2]\n",
    "    \n",
    "    ## b^2\n",
    "    for h1 in lis_h:\n",
    "        for h2 in lis_h:\n",
    "            val_res11 += solution[f\"b_{h1}_{q}\"]*solution[f\"b_{h2}_{q}\"] * lambda_11*2**(h1+h2)\n",
    "    \n",
    "    ## bc\n",
    "    for i in lis_n:\n",
    "        for j in lis_n:\n",
    "            for h in lis_h:\n",
    "                val_res11 += solution[f\"x_{i}_{j}_{1}_{1}\"]*solution[f\"b_{h}_{q}\"] * (-lambda_11)*2*2**h*dist[i,j]\n",
    "    \n",
    "    ## c^2\n",
    "    for i1 in lis_n:\n",
    "        for j1 in lis_n:\n",
    "            for i2 in lis_n:\n",
    "                for j2 in lis_n:\n",
    "                    val_res11 += solution[f\"x_{i1}_{j1}_{1}_{1}\"]*solution[f\"x_{i2}_{j2}_{1}_{1}\"] * lambda_11*dist[i1,j1]*dist[i2,j2]\n",
    "    \n",
    "    \n",
    "\n",
    "                \n",
    "\n",
    "print(\"Constraint 11 is providingo a best_energy \",val_res11, \" y deberia ser \",0)\n",
    "best_energy += val_res11\n",
    "\n",
    "## Objective function\n",
    "val_obj = 0\n",
    "for i in lis_n:\n",
    "    for j in lis_n:\n",
    "        val_obj += solution[f\"x_{i}_{j}_{1}_{1}\"] *lambda_obj * dist[i,j]\n",
    "\n",
    "print(\"the objective function is: \",val_obj)\n",
    "\n",
    "\n",
    "\n",
    "print(\"Our energy is: \",best_energy)\n",
    "print(\"The sampleset energy is: \",sampleset.first.energy)"
   ]
  },
  {
   "cell_type": "code",
   "execution_count": null,
   "metadata": {},
   "outputs": [],
   "source": []
  }
 ],
 "metadata": {
  "kernelspec": {
   "display_name": "Python 3 (ipykernel)",
   "language": "python",
   "name": "python3"
  },
  "language_info": {
   "codemirror_mode": {
    "name": "ipython",
    "version": 3
   },
   "file_extension": ".py",
   "mimetype": "text/x-python",
   "name": "python",
   "nbconvert_exporter": "python",
   "pygments_lexer": "ipython3",
   "version": "3.8.3"
  }
 },
 "nbformat": 4,
 "nbformat_minor": 4
}
